{
 "cells": [
  {
   "cell_type": "code",
   "execution_count": null,
   "id": "052556a9-37ba-41c7-a615-51ebe06e20ae",
   "metadata": {},
   "outputs": [],
   "source": [
    "confidence_interval:\n",
    "        hm ek range fix kr dety hn yani interval fix krty hn (or vo range ya interval\n",
    "experiments k baad ati h) or kehty hn k asal answer hmara isi interval k drmian h khi pr. This\n",
    "interval is called confidence interval. "
   ]
  },
  {
   "cell_type": "markdown",
   "id": "314f63e3-a2d2-45e7-b590-a099006fa1df",
   "metadata": {},
   "source": [
    "# explanation of definition:"
   ]
  },
  {
   "cell_type": "code",
   "execution_count": null,
   "id": "27700164-2ac3-4f5b-8914-124d20c8b0cf",
   "metadata": {},
   "outputs": [],
   "source": [
    "e.g: we want to determine the average height of university students. Get height of every student \n",
    "is impossible so we do sampling. We will get height of 50 students which will present in one sample. \n",
    "let's say the average of this sample is 170cm. we can say that we are 95% confident that actual \n",
    "average height of university students will be sme where between 167cm to 173cm. This range is \n",
    "confidence interval."
   ]
  },
  {
   "cell_type": "markdown",
   "id": "9a9ccb37-c4ca-459f-b1b2-9e0b6fd23a62",
   "metadata": {},
   "source": [
    "# why we use 95% CI?"
   ]
  },
  {
   "cell_type": "code",
   "execution_count": null,
   "id": "884bd257-783a-47f2-9b9b-16e0fd83ca73",
   "metadata": {},
   "outputs": [],
   "source": [
    "using 95% CI is a standard. If we use 80% CI then we have to use narrow interval such as\n",
    "169cm to 171cm and it is possible that actuall value will not present here. If we use 100% CI then\n",
    "interval would be so much large such as 20cm to 200cm which will be not useful in actual cases.\n",
    "agr interval ziada ho ga tabhi tio hmy 100% garanty h 100% confidence h k average isi interval k andr\n",
    "hi ay ga to itna bra interval asal scenerias m bilkul use ful nhi h\n"
   ]
  }
 ],
 "metadata": {
  "kernelspec": {
   "display_name": "Python 3 (ipykernel)",
   "language": "python",
   "name": "python3"
  },
  "language_info": {
   "codemirror_mode": {
    "name": "ipython",
    "version": 3
   },
   "file_extension": ".py",
   "mimetype": "text/x-python",
   "name": "python",
   "nbconvert_exporter": "python",
   "pygments_lexer": "ipython3",
   "version": "3.12.2"
  }
 },
 "nbformat": 4,
 "nbformat_minor": 5
}
